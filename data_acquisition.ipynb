{
 "cells": [
  {
   "cell_type": "code",
   "execution_count": 2,
   "id": "14f1869c",
   "metadata": {},
   "outputs": [],
   "source": [
    "from genius_scrape import LyricsPuller, SongDataPuller, SongFileProcessor, model\n",
    "import pandas as pd\n",
    "import regex as re"
   ]
  },
  {
   "attachments": {},
   "cell_type": "markdown",
   "id": "59875184",
   "metadata": {},
   "source": [
    "# Data Acquisition <a name=\"index\"></a>\n",
    "This notebook will walk through the process of getting the raw data from Genius. You can see the code for the bespoke classes in the external \"genius_scrape\" file.\n",
    "\n",
    "1. <a href=\"#1\">Introduction</a>\n",
    "2. <a href=\"#2\">Search</a>\n",
    "3. <a href=\"#3\">Filter</a>\n",
    "4. <a href=\"#4\">Refilter with alternate names</a>\n",
    "5. <a href=\"#5\">Dates</a>\n",
    "6. <a href=\"#6\">Output</a>\n",
    "7. <a href=\"#7\">Lyrics</a>\n",
    "8. <a href=\"#8\">Verses</a>\n",
    "9. <a href=\"#9\">Additional cleaning and standardization</a>\n",
    "10. <a href=\"#10\">Add metrics</a>"
   ]
  },
  {
   "cell_type": "markdown",
   "id": "cb1a2c85",
   "metadata": {},
   "source": [
    "### 1. Introduction <a name=\"1\"></a>\n",
    "<a href=\"#index\">Top</a>\n",
    "\n",
    "For demonstration, we will get all the songs by Vallejo, California rap veteran [Suga-T](https://suga-t.com/). Suga is Bay Area godfather E-40's brother, is probably best known outside the Bay for her verses on 40 hits like [\"Sprinkle Me\"](https://www.youtube.com/watch?v=byuQVTdlfos&ab_channel=E40VEVO) and [\"Captain Save A Hoe\"](https://www.youtube.com/watch?v=_7vQSPBtwyc&ab_channel=E40VEVO). But she is an accomplished artist in her own right, both solo and as a member of The Click (with 40, cousin B-Legit, and other brother D-Shot).\n",
    "\n",
    "Here she is in 2019 with E-40.\n",
    "\n",
    "![Suga-T and E-40](./suga_t.jpg)\n",
    "<center><em>Image courtesy of <a href=\"https://www.thehypemagazine.com/2019/09/legendary-hip-hop-artist-suga-t-agrees-with-jermaine-dupris-comments-about-female-rappers-releases-w-o-r-k-it-soundtrack/\">The Hype Magazine</a></em></center>"
   ]
  },
  {
   "cell_type": "markdown",
   "id": "e40f1981",
   "metadata": {},
   "source": [
    "### 2. Search <a name=\"2\"></a>\n",
    "<a href=\"#index\">Top</a>\n",
    "\n",
    "Getting all of an artist's songs from the Genius API takes a little bit of work. There is an Artists endpoint, but it cannot be queried with a string, only an artist ID.\n",
    "\n",
    "You can use the API's Search endpoint to get the artist ID, but doing so involves sifting through all the matches in Genius's extensive database. This is no big deal on a small scale, but automating searches for several hundred artists took some work.\n",
    "\n",
    "To demonstrate this challenge, look at what you get when you search for \"Suga-T\" on Genius. The API returns 10 songs, but only two of them are by Suga-T."
   ]
  },
  {
   "cell_type": "code",
   "execution_count": 3,
   "id": "62894a12",
   "metadata": {},
   "outputs": [
    {
     "name": "stdout",
     "output_type": "stream",
     "text": [
      "Star Cast - Suga (Ft. Brittany O'Grady, Jude Demorest & Ryan Destiny)\n",
      "Ben&Ben - Sugat (Ft. Munimuni)\n",
      "The Fatback Band & With You - (Are You Ready) Do the Bus Stop / Suga (Ft. Sarah Ruba)\n",
      "Genius Traducciones al Español - IU - 에잇 (eight) ft. SUGA (Traducción al Español)\n",
      "Suga-T - Billy Bad Ass\n",
      "須田景凪 (Keina Suda) - 風の姿 (Kaze no Sugata/The Appearance Of The Wind)\n",
      "Suga-T - Suga Daddy\n",
      "ナナヲアカリ (Nanawoakari) - 一生奇跡に縋ってろ (Isshou Kiseki Ni Sugattero)\n",
      "Genius Romanizations - 須田景凪 (Keina Suda) - 風の姿 (Kaze no Sugata) (Romanized)\n",
      "Genius English Translations - Ben&Ben - Sugat ft. Munimuni (English Translation)\n"
     ]
    }
   ],
   "source": [
    "sdp = SongDataPuller()\n",
    "sdp.make_headers()\n",
    "sdp.intake_query({\"query\": \"suga-t\"})\n",
    "query_response = sdp.query_search(sdp.query)\n",
    "\n",
    "for r in query_response:\n",
    "    print(f\"{r['result']['primary_artist']['name']} - {r['result']['title_with_featured']}\")"
   ]
  },
  {
   "cell_type": "markdown",
   "id": "d9733b33",
   "metadata": {},
   "source": [
    "### 3. Filter <a name=\"3\"></a>\n",
    "<a href=\"#index\">Top</a>\n",
    "\n",
    "The filtering step removes any songs in which the target artist (Suga-T) does not appear in the song title, primary artist or featured artist. It also takes out songs with certain recurring problematic phrases in their metadata, most prominently any non-English translations.\n",
    "\n",
    "What remains are, ideally (artist, API path) tuples for our target artist. The artist ID is in the API path."
   ]
  },
  {
   "cell_type": "code",
   "execution_count": 31,
   "id": "3566b993",
   "metadata": {},
   "outputs": [
    {
     "name": "stdout",
     "output_type": "stream",
     "text": [
      "excluding: query suga-t not in: Star Cast--Ryan Destiny / Brittany O’Grady / Jude Demorest--Suga\n",
      "excluding: query suga-t not in: Ben&Ben--Munimuni--Sugat\n",
      "excluding: query suga-t not in: The Fatback Band & With You--Sarah Ruba--(Are You Ready) Do the Bus Stop / Suga\n",
      "excluding suga-t:  artist Genius Traducciones al Español doesn't match: traducciones\n",
      "excluding: query suga-t not in: 須田景凪 (Keina Suda)----風の姿 (Kaze no Sugata/The Appearance Of The Wind)\n",
      "excluding: query suga-t not in: ナナヲアカリ (Nanawoakari)----一生奇跡に縋ってろ (Isshou Kiseki Ni Sugattero)\n",
      "excluding: query suga-t not in: Genius Romanizations----須田景凪 (Keina Suda) - 風の姿 (Kaze no Sugata) (Romanized)\n",
      "excluding suga-t:  artist Genius English Translations doesn't match: genius english translations\n",
      "\n",
      "Artists to search: {('Suga-T', '/artists/5681')}\n",
      "\n",
      "Artist ID: 5681\n"
     ]
    }
   ],
   "source": [
    "artists = sdp.filter_artists(query_response)\n",
    "print(\"\\nArtists to search:\", artists)\n",
    "print(\"\\nArtist ID:\", list(artists)[0][-1].split(\"/\")[-1])"
   ]
  },
  {
   "cell_type": "markdown",
   "id": "8245fe33",
   "metadata": {},
   "source": [
    "### 4. Refilter with alternate names <a name=\"4\"></a>\n",
    "<a href=\"#index\">Top</a>\n",
    "\n",
    "Now that we have the artist ID, we can query the artist endpoint to get songs by the target artist."
   ]
  },
  {
   "cell_type": "code",
   "execution_count": 32,
   "id": "d69f35c7",
   "metadata": {},
   "outputs": [
    {
     "name": "stdout",
     "output_type": "stream",
     "text": [
      "Suga-T - \"Billy Bad Ass\"\n",
      "E-40 & B-Legit (Ft. The Click) - \"Blame It\"\n",
      "E-40 - \"Bootsee\"\n",
      "Mia X (Ft. Suga-T) - \"Can’t Trust A Man\"\n",
      "Mia X (Ft. Suga-T) - \"Can’t Trust No Man\"\n",
      "E-40 (Ft. The Click) - \"Captain Save A Hoe\"\n",
      "E-40 (Ft. The Click) - \"Captain Save a Hoe (Remix)\"\n",
      "Pimp C (Ft. Mannie Fresh & Suga-T) - \"Cheat on Yo Man\"\n",
      "UGK - \"Choppin’ Blades\"\n",
      "E-40 (Ft. Bosko, The Click & Harm) - \"Click About It\"\n"
     ]
    }
   ],
   "source": [
    "artist_id = next(a for a in artists)[1]\n",
    "\n",
    "songs_json = sdp.songs_query(artist_id, 1)\n",
    "\n",
    "for n, s in enumerate(songs_json['songs'][:10]):\n",
    "    print(f'{s[\"artist_names\"]} - \"{s[\"title\"]}\"')"
   ]
  },
  {
   "cell_type": "markdown",
   "id": "45db21cc",
   "metadata": {},
   "source": [
    "Notice that Suga-T is the main artist on only one of these songs. She shows up in 4 of the tracks as a member of The Click, and as a feature on another 3. Genius's API is sophisticated enough to return songs featuring the target artist and songs where the target artist does not appear by name.\n",
    "\n",
    "The API also return songs that involve the target artist in more tangential ways, which need to be removed. Suga-T does not rap on \"Bootsee\" or \"Choppin' Blades\". She contributes backing vocals to \"Bootsee\" and is credited accordingly, but doesn't actually rap. The beat and hook for \"Choppin' Blades\" credits Suga-T because its beat and hook are interpolations of The Click's \"Captain Save A Hoe\", but she does not appear on the song.\n",
    "\n",
    "To handle these considerations, the code contains an additional filter for songs that do not explicitly feature lyrics from the target artist, and takes an \"alts\" parameter in the original query to allow other names through the filters. "
   ]
  },
  {
   "cell_type": "code",
   "execution_count": 6,
   "id": "8fab24b7",
   "metadata": {},
   "outputs": [
    {
     "name": "stdout",
     "output_type": "stream",
     "text": [
      "excluding: query suga-t not in: E-40----Bootsee\n",
      "excluding: query suga-t not in: UGK----Choppin’ Blades\n",
      "\n",
      "Suga-T - \"Billy Bad Ass\"\n",
      "E-40 & B-Legit (Ft. The Click) - \"Blame It\"\n",
      "Mia X (Ft. Suga-T) - \"Can’t Trust A Man\"\n",
      "Mia X (Ft. Suga-T) - \"Can’t Trust No Man\"\n",
      "E-40 (Ft. The Click) - \"Captain Save A Hoe\"\n",
      "E-40 (Ft. The Click) - \"Captain Save a Hoe (Remix)\"\n",
      "Pimp C (Ft. Mannie Fresh & Suga-T) - \"Cheat on Yo Man\"\n",
      "E-40 (Ft. Bosko, The Click & Harm) - \"Click About It\"\n"
     ]
    }
   ],
   "source": [
    "sdp.intake_query({\"query\": \"suga-t\", \"alts\": [\"the click\"]}) # including \"alts\"\n",
    "\n",
    "songs_json = sdp.songs_query(next(a for a in artists)[1], 1)\n",
    "\n",
    "songs = [] # collect results here\n",
    "for n, s in enumerate(songs_json['songs'][:10]):\n",
    "    song_data_temp = sdp.extract_song_data(s)\n",
    "    include = sdp.exclusion_filter(song_data_temp) # filtering step\n",
    "    if include:\n",
    "        songs.append(s)\n",
    "print('')\n",
    "for s in songs:        \n",
    "    print(f'{s[\"artist_names\"]} - \"{s[\"title\"]}\"')"
   ]
  },
  {
   "cell_type": "markdown",
   "id": "8e1c7826",
   "metadata": {},
   "source": [
    "(You can see the limitations of crowdsourced data here, as [\"Can't Trust No Man\"](https://genius.com/Mia-x-cant-trust-no-man-lyrics) and [\"Can't Trust A Man\"](https://genius.com/Mia-x-cant-trust-a-man-lyrics) are actually the same song. However, given the size of the data set, it makes more sense to consider duplications in the entire data set than to worry about them at this point.)"
   ]
  },
  {
   "cell_type": "markdown",
   "id": "96efd669",
   "metadata": {},
   "source": [
    "### 5. Dates <a name=\"5\"></a>\n",
    "<a href=\"#index\">Top</a>\n",
    "\n",
    "There are three date fields in the API response, and any or none of them may be present. The code contains logic to decide which field to use and how to extract the date.\n",
    "\n",
    "You can see the some of the possible variation in date fields in the data below."
   ]
  },
  {
   "cell_type": "code",
   "execution_count": 33,
   "id": "da7ff1fc",
   "metadata": {},
   "outputs": [
    {
     "data": {
      "text/html": [
       "<div>\n",
       "<style scoped>\n",
       "    .dataframe tbody tr th:only-of-type {\n",
       "        vertical-align: middle;\n",
       "    }\n",
       "\n",
       "    .dataframe tbody tr th {\n",
       "        vertical-align: top;\n",
       "    }\n",
       "\n",
       "    .dataframe thead th {\n",
       "        text-align: right;\n",
       "    }\n",
       "</style>\n",
       "<table border=\"1\" class=\"dataframe\">\n",
       "  <thead>\n",
       "    <tr style=\"text-align: right;\">\n",
       "      <th></th>\n",
       "      <th>artist_names</th>\n",
       "      <th>title</th>\n",
       "      <th>release_date</th>\n",
       "      <th>release_date_components</th>\n",
       "      <th>release_date_for_display</th>\n",
       "    </tr>\n",
       "  </thead>\n",
       "  <tbody>\n",
       "    <tr>\n",
       "      <th>0</th>\n",
       "      <td>E-40 (Ft. Busta Rhymes)</td>\n",
       "      <td>Do It To Me</td>\n",
       "      <td>None</td>\n",
       "      <td>{'year': 1998, 'month': 8, 'day': 11}</td>\n",
       "      <td>August 11, 1998</td>\n",
       "    </tr>\n",
       "    <tr>\n",
       "      <th>1</th>\n",
       "      <td>E-40</td>\n",
       "      <td>Duckin’ &amp; Dodgin’</td>\n",
       "      <td>None</td>\n",
       "      <td>{'year': 1999, 'month': 11, 'day': 9}</td>\n",
       "      <td>November 9, 1999</td>\n",
       "    </tr>\n",
       "    <tr>\n",
       "      <th>2</th>\n",
       "      <td>E-40 (Ft. 2Pac, Mac Mall &amp; Spice 1)</td>\n",
       "      <td>Dusted ‘n’ Disgusted</td>\n",
       "      <td>None</td>\n",
       "      <td>{'year': 1995, 'month': 3, 'day': 14}</td>\n",
       "      <td>March 14, 1995</td>\n",
       "    </tr>\n",
       "    <tr>\n",
       "      <th>3</th>\n",
       "      <td>The Click</td>\n",
       "      <td>Family</td>\n",
       "      <td>None</td>\n",
       "      <td>{'year': 2001, 'month': 9, 'day': 25}</td>\n",
       "      <td>September 25, 2001</td>\n",
       "    </tr>\n",
       "    <tr>\n",
       "      <th>4</th>\n",
       "      <td>E-40 (Ft. Suga-T)</td>\n",
       "      <td>Fed</td>\n",
       "      <td>None</td>\n",
       "      <td>{'year': 1995, 'month': 3, 'day': 14}</td>\n",
       "      <td>March 14, 1995</td>\n",
       "    </tr>\n",
       "    <tr>\n",
       "      <th>5</th>\n",
       "      <td>E-40 (Ft. The Click)</td>\n",
       "      <td>Fuckin’ They Nose</td>\n",
       "      <td>None</td>\n",
       "      <td>{'year': 1999, 'month': 11, 'day': 9}</td>\n",
       "      <td>November 9, 1999</td>\n",
       "    </tr>\n",
       "    <tr>\n",
       "      <th>6</th>\n",
       "      <td>E-40 (Ft. Suga-T)</td>\n",
       "      <td>Ghetto Celebrity</td>\n",
       "      <td>None</td>\n",
       "      <td>{'year': 1999, 'month': 11, 'day': 9}</td>\n",
       "      <td>November 9, 1999</td>\n",
       "    </tr>\n",
       "  </tbody>\n",
       "</table>\n",
       "</div>"
      ],
      "text/plain": [
       "                          artist_names                 title release_date  \\\n",
       "0              E-40 (Ft. Busta Rhymes)           Do It To Me         None   \n",
       "1                                 E-40     Duckin’ & Dodgin’         None   \n",
       "2  E-40 (Ft. 2Pac, Mac Mall & Spice 1)  Dusted ‘n’ Disgusted         None   \n",
       "3                            The Click                Family         None   \n",
       "4                    E-40 (Ft. Suga-T)                   Fed         None   \n",
       "5                 E-40 (Ft. The Click)     Fuckin’ They Nose         None   \n",
       "6                    E-40 (Ft. Suga-T)      Ghetto Celebrity         None   \n",
       "\n",
       "                 release_date_components release_date_for_display  \n",
       "0  {'year': 1998, 'month': 8, 'day': 11}          August 11, 1998  \n",
       "1  {'year': 1999, 'month': 11, 'day': 9}         November 9, 1999  \n",
       "2  {'year': 1995, 'month': 3, 'day': 14}           March 14, 1995  \n",
       "3  {'year': 2001, 'month': 9, 'day': 25}       September 25, 2001  \n",
       "4  {'year': 1995, 'month': 3, 'day': 14}           March 14, 1995  \n",
       "5  {'year': 1999, 'month': 11, 'day': 9}         November 9, 1999  \n",
       "6  {'year': 1999, 'month': 11, 'day': 9}         November 9, 1999  "
      ]
     },
     "execution_count": 33,
     "metadata": {},
     "output_type": "execute_result"
    }
   ],
   "source": [
    "date_df = pd.DataFrame(\n",
    "    [{\n",
    "        k:s.get(k) for k in [\n",
    "            'artist_names', \n",
    "            'title', \n",
    "            'release_date', \n",
    "            'release_date_components', \n",
    "            'release_date_for_display'\n",
    "        ]\n",
    "    } for s in songs_json['songs'][10:17]]\n",
    ")\n",
    "\n",
    "date_df"
   ]
  },
  {
   "cell_type": "markdown",
   "id": "7912b86d",
   "metadata": {},
   "source": [
    "### 6. Output <a name=\"6\"></a>\n",
    "<a href=\"#index\">Top</a>\n",
    "\n",
    "The end result is a CSV file with relevant data for songs for each artist, including the URL for the lyrics to each song."
   ]
  },
  {
   "cell_type": "code",
   "execution_count": 8,
   "id": "b309b9b5",
   "metadata": {},
   "outputs": [
    {
     "data": {
      "text/html": [
       "<div>\n",
       "<style scoped>\n",
       "    .dataframe tbody tr th:only-of-type {\n",
       "        vertical-align: middle;\n",
       "    }\n",
       "\n",
       "    .dataframe tbody tr th {\n",
       "        vertical-align: top;\n",
       "    }\n",
       "\n",
       "    .dataframe thead th {\n",
       "        text-align: right;\n",
       "    }\n",
       "</style>\n",
       "<table border=\"1\" class=\"dataframe\">\n",
       "  <thead>\n",
       "    <tr style=\"text-align: right;\">\n",
       "      <th></th>\n",
       "      <th>title</th>\n",
       "      <th>artist</th>\n",
       "      <th>features</th>\n",
       "      <th>date</th>\n",
       "      <th>url</th>\n",
       "    </tr>\n",
       "  </thead>\n",
       "  <tbody>\n",
       "    <tr>\n",
       "      <th>0</th>\n",
       "      <td>Billy Bad Ass</td>\n",
       "      <td>Suga-T</td>\n",
       "      <td>NaN</td>\n",
       "      <td>NO DATE</td>\n",
       "      <td>https://genius.com/Suga-t-billy-bad-ass-lyrics</td>\n",
       "    </tr>\n",
       "    <tr>\n",
       "      <th>1</th>\n",
       "      <td>Blame It</td>\n",
       "      <td>E-40 &amp; B-Legit</td>\n",
       "      <td>The Click</td>\n",
       "      <td>2018-4-6</td>\n",
       "      <td>https://genius.com/E-40-and-b-legit-blame-it-l...</td>\n",
       "    </tr>\n",
       "    <tr>\n",
       "      <th>2</th>\n",
       "      <td>Can’t Trust A Man</td>\n",
       "      <td>Mia X</td>\n",
       "      <td>Suga-T</td>\n",
       "      <td>NO DATE</td>\n",
       "      <td>https://genius.com/Mia-x-cant-trust-a-man-lyrics</td>\n",
       "    </tr>\n",
       "    <tr>\n",
       "      <th>3</th>\n",
       "      <td>Can’t Trust No Man</td>\n",
       "      <td>Mia X</td>\n",
       "      <td>Suga-T</td>\n",
       "      <td>NO DATE</td>\n",
       "      <td>https://genius.com/Mia-x-cant-trust-no-man-lyrics</td>\n",
       "    </tr>\n",
       "    <tr>\n",
       "      <th>4</th>\n",
       "      <td>Captain Save A Hoe</td>\n",
       "      <td>E-40</td>\n",
       "      <td>The Click</td>\n",
       "      <td>1993-9-28</td>\n",
       "      <td>https://genius.com/E-40-captain-save-a-hoe-lyrics</td>\n",
       "    </tr>\n",
       "    <tr>\n",
       "      <th>5</th>\n",
       "      <td>Captain Save a Hoe (Remix)</td>\n",
       "      <td>E-40</td>\n",
       "      <td>The Click</td>\n",
       "      <td>1993-9-23</td>\n",
       "      <td>https://genius.com/E-40-captain-save-a-hoe-rem...</td>\n",
       "    </tr>\n",
       "    <tr>\n",
       "      <th>6</th>\n",
       "      <td>Cheat on Yo Man</td>\n",
       "      <td>Pimp C</td>\n",
       "      <td>Suga-T / Mannie Fresh</td>\n",
       "      <td>NO DATE</td>\n",
       "      <td>https://genius.com/Pimp-c-cheat-on-yo-man-lyrics</td>\n",
       "    </tr>\n",
       "    <tr>\n",
       "      <th>7</th>\n",
       "      <td>Click About It</td>\n",
       "      <td>E-40</td>\n",
       "      <td>Bosko / Harm / The Click</td>\n",
       "      <td>2011-3-29</td>\n",
       "      <td>https://genius.com/E-40-click-about-it-lyrics</td>\n",
       "    </tr>\n",
       "    <tr>\n",
       "      <th>8</th>\n",
       "      <td>Family</td>\n",
       "      <td>The Click</td>\n",
       "      <td>NaN</td>\n",
       "      <td>2001-9-25</td>\n",
       "      <td>https://genius.com/The-click-family-lyrics</td>\n",
       "    </tr>\n",
       "    <tr>\n",
       "      <th>9</th>\n",
       "      <td>Fed</td>\n",
       "      <td>E-40</td>\n",
       "      <td>Suga-T</td>\n",
       "      <td>1995-3-14</td>\n",
       "      <td>https://genius.com/E-40-fed-lyrics</td>\n",
       "    </tr>\n",
       "  </tbody>\n",
       "</table>\n",
       "</div>"
      ],
      "text/plain": [
       "                        title          artist                  features  \\\n",
       "0               Billy Bad Ass          Suga-T                       NaN   \n",
       "1                    Blame It  E-40 & B-Legit                 The Click   \n",
       "2           Can’t Trust A Man           Mia X                    Suga-T   \n",
       "3          Can’t Trust No Man           Mia X                    Suga-T   \n",
       "4          Captain Save A Hoe            E-40                 The Click   \n",
       "5  Captain Save a Hoe (Remix)            E-40                 The Click   \n",
       "6             Cheat on Yo Man          Pimp C     Suga-T / Mannie Fresh   \n",
       "7              Click About It            E-40  Bosko / Harm / The Click   \n",
       "8                      Family       The Click                       NaN   \n",
       "9                         Fed            E-40                    Suga-T   \n",
       "\n",
       "        date                                                url  \n",
       "0    NO DATE     https://genius.com/Suga-t-billy-bad-ass-lyrics  \n",
       "1   2018-4-6  https://genius.com/E-40-and-b-legit-blame-it-l...  \n",
       "2    NO DATE   https://genius.com/Mia-x-cant-trust-a-man-lyrics  \n",
       "3    NO DATE  https://genius.com/Mia-x-cant-trust-no-man-lyrics  \n",
       "4  1993-9-28  https://genius.com/E-40-captain-save-a-hoe-lyrics  \n",
       "5  1993-9-23  https://genius.com/E-40-captain-save-a-hoe-rem...  \n",
       "6    NO DATE   https://genius.com/Pimp-c-cheat-on-yo-man-lyrics  \n",
       "7  2011-3-29      https://genius.com/E-40-click-about-it-lyrics  \n",
       "8  2001-9-25         https://genius.com/The-click-family-lyrics  \n",
       "9  1995-3-14                 https://genius.com/E-40-fed-lyrics  "
      ]
     },
     "execution_count": 8,
     "metadata": {},
     "output_type": "execute_result"
    }
   ],
   "source": [
    "suga_t_df = pd.read_csv(\"./lyrics/suga-t/suga-t_data.csv\", header=None)[[r for r in range(5)]]\n",
    "suga_t_df.columns = ['title', 'artist', 'features', 'date', 'url']\n",
    "suga_t_df.head(10)"
   ]
  },
  {
   "cell_type": "markdown",
   "id": "5f7eff73",
   "metadata": {},
   "source": [
    "### 7. Lyrics <a name=\"7\"></a>\n",
    "<a href=\"#index\">Top</a>\n",
    "\n",
    "The Genius API has no special endpoint for lyrics, presumably because the lyrics are all available on the web through plain HTTP queries. However, despite observing standard best practices to avoid rate-limiting, Cloudflare (Genius's hosting service) did not like the volume of lyrics queries and began giving me 503 errors.\n",
    "\n",
    "I tried several approaches to evade Cloudflare. I replaced Requestes with [Cloudscraper](https://pypi.org/project/cloudscraper/), added [Fake Useragent](https://pypi.org/project/fake-useragent/) to create random user agents for each query, and even considered brute force scraping using Selenium and [undetected chromedriver](https://github.com/ultrafunkamsterdam/undetected-chromedriver). (What finally worked was a specific combination of user agent parameters and the use of an [ordered dictionary](https://realpython.com/python-ordereddict/) for the Request header.)\n",
    "\n",
    "The code takes a CSV file as returned in the first phase of the scrape and gets the lyrics for all the listed songs using the provided address."
   ]
  },
  {
   "cell_type": "code",
   "execution_count": 35,
   "id": "2cd1cbd9",
   "metadata": {},
   "outputs": [
    {
     "name": "stdout",
     "output_type": "stream",
     "text": [
      "0 Suga-T Billy Bad Ass https://genius.com/Suga-t-billy-bad-ass-lyrics\n",
      "1 E-40 & B-Legit Blame It https://genius.com/E-40-and-b-legit-blame-it-lyrics\n",
      "2 Mia X Can’t Trust A Man https://genius.com/Mia-x-cant-trust-a-man-lyrics\n"
     ]
    }
   ],
   "source": [
    "lp = LyricsPuller(\"suga-t\")\n",
    "lp.load_df() # load song data\n",
    "\n",
    "for r in lp.df.loc[0:2,:].iterrows():\n",
    "    lp.process_entry(r)"
   ]
  },
  {
   "cell_type": "markdown",
   "id": "92f29263",
   "metadata": {},
   "source": [
    "The code also adds a header with relevant metadata to each file."
   ]
  },
  {
   "cell_type": "code",
   "execution_count": 36,
   "id": "1e05f60b",
   "metadata": {},
   "outputs": [
    {
     "name": "stdout",
     "output_type": "stream",
     "text": [
      "\n",
      "An example of the metadata header...\n",
      "\n",
      "SONG TITLE: Billy Bad Ass\n",
      "RELEASE DATE: NO DATE\n",
      "PRIMARY ARTIST: Suga-T\n",
      "FEATURED ARTISTS: nan\n",
      "SONG ID: 59441\n",
      "======\n"
     ]
    }
   ],
   "source": [
    "print(\"\\nAn example of the metadata header...\\n\")\n",
    "with open(\"./lyrics/suga-t/Suga-T-Billy Bad Ass.txt\") as f:\n",
    "    print(f.read()[:114]) "
   ]
  },
  {
   "cell_type": "markdown",
   "id": "2e371025",
   "metadata": {},
   "source": [
    "### 8. Verses <a name=\"8\"></a>\n",
    "<a href=\"#index\">Top</a>\n",
    "\n",
    "To maximize the data, I broke every song down into its constituent verses. This allowed me to extract and appropriately gender collaborations between male and female artists, and to label verse types (chorus, bridge, outro, etc), for further downstream analysis.\n",
    "\n",
    "Additionally, I am expecting to use a modeling framework which has a maximum sentence length of 512 tokens. Anything past that will be truncated and ignored as actual training data. Breaking songs into verses mostly solves this problem with a strategy that is informed by the actual context of the data.\n",
    "\n",
    "We will look at this process using Pimp C, Suga-T and Mannie Fresh's [\"Cheat On Yo Man\"](https://www.youtube.com/watch?v=LvzJJiOLprg&ab_channel=626bigSGV) from Pimp C's 2006 album _The Pimpilation_."
   ]
  },
  {
   "cell_type": "code",
   "execution_count": 10,
   "id": "4cad5b9b",
   "metadata": {},
   "outputs": [],
   "source": [
    "file_ = 'Pimp C-Cheat on Yo Man.txt'\n",
    "artist = 'suga-t'\n",
    "\n",
    "sfp = SongFileProcessor(artist)\n",
    "text_ = open(\"./lyrics/suga-t/Pimp C-Cheat on Yo Man.txt\").read()\n",
    "\n",
    "# these steps are automated deeper in the code, but done manually here for demonstration\n",
    "text_ = sfp.preprocess_text(text_)\n",
    "song_info = text_.split(\"======\")[0]\n",
    "song_lyrics = text_.split(\"======\")[1]\n",
    "verses = re.split(r\"\\n\\n\", song_lyrics)"
   ]
  },
  {
   "cell_type": "markdown",
   "id": "ee475205",
   "metadata": {},
   "source": [
    "First we fix some recurring quirks in the data with a preprocessing step, then we split off the song info and split the lyrics into verses on double line-breaks. \n",
    "\n",
    "This is not a perfect approach to parsing out verses, but any song that is not split remains in the data as one long verse by the song's artist (which is fine for our purposes). "
   ]
  },
  {
   "cell_type": "code",
   "execution_count": 11,
   "id": "8eb30f2e",
   "metadata": {},
   "outputs": [
    {
     "name": "stdout",
     "output_type": "stream",
     "text": [
      "SONG TITLE: Cheat on Yo Man\n",
      "RELEASE DATE: NO DATE\n",
      "PRIMARY ARTIST: Pimp C\n",
      "FEATURED ARTISTS: Suga-T / Mannie Fresh\n",
      "SONG ID: 761361\n",
      "\n",
      "number of verses: 6 \n",
      "\n",
      "first verse:\n",
      " \\[Hook: Mannie Fresh]\n",
      "If you wanna get ahead baby\n",
      "Stick to the plan, if you wanna get ahead baby, cheat on yo man\n",
      "If you wanna get ahead baby\n",
      "Stick to the plan, if you wanna get ahead, hey, i'll show you\n"
     ]
    }
   ],
   "source": [
    "print(song_info)\n",
    "print(\"number of verses:\", len(verses), \"\\n\")\n",
    "print(\"first verse:\\n\", verses[1])"
   ]
  },
  {
   "cell_type": "markdown",
   "id": "5a2ef1b5",
   "metadata": {},
   "source": [
    "Genius lyrics are neither clean nor standardized. However, its contributors do follow loose annotation conventions, in which sections of songs are demarcated with \"headers\" consisting of the section type (\"verse\", \"chorus\", \"bridge\" etc) and sometimes the artist, in brackets or parentheses. \n",
    "\n",
    "While these headers are inconsistent, they were sufficiently robust for me to build a Named Entity Recognition model with [SpaCy](https://spacy.io/api/entityrecognizer/) from a sample of lyrics. This allowed me to efficiently label verses with their type and artist.\n",
    "\n",
    "The model accurately identifies all the parts of our song. (\"Hook Verse\" is a verse preceded by an implied hook. This will be fixed later.)"
   ]
  },
  {
   "cell_type": "code",
   "execution_count": 12,
   "id": "5b3f8b03",
   "metadata": {},
   "outputs": [
    {
     "name": "stdout",
     "output_type": "stream",
     "text": [
      "('Hook', 'Mannie Fresh')\n",
      "('Verse', 'Pimp C')\n",
      "('Hook Verse', 'Suga')\n",
      "('Hook Verse', 'Mannie Fresh')\n",
      "('Hook x4', None)\n"
     ]
    }
   ],
   "source": [
    "for v in verses[1:]:\n",
    "    print(sfp.process_header(sfp.extract_header(v)))"
   ]
  },
  {
   "cell_type": "markdown",
   "id": "dc632ad6",
   "metadata": {},
   "source": [
    "Here is all the data parsed out of \"Cheat on Yo Man\"."
   ]
  },
  {
   "cell_type": "code",
   "execution_count": 13,
   "id": "6ba92789",
   "metadata": {
    "scrolled": true
   },
   "outputs": [
    {
     "data": {
      "text/html": [
       "<div>\n",
       "<style scoped>\n",
       "    .dataframe tbody tr th:only-of-type {\n",
       "        vertical-align: middle;\n",
       "    }\n",
       "\n",
       "    .dataframe tbody tr th {\n",
       "        vertical-align: top;\n",
       "    }\n",
       "\n",
       "    .dataframe thead th {\n",
       "        text-align: right;\n",
       "    }\n",
       "</style>\n",
       "<table border=\"1\" class=\"dataframe\">\n",
       "  <thead>\n",
       "    <tr style=\"text-align: right;\">\n",
       "      <th></th>\n",
       "      <th>song_title</th>\n",
       "      <th>release_date</th>\n",
       "      <th>song_artist</th>\n",
       "      <th>features</th>\n",
       "      <th>song_id</th>\n",
       "      <th>verse_text</th>\n",
       "      <th>verse_index</th>\n",
       "      <th>verse_header</th>\n",
       "      <th>verse_type</th>\n",
       "      <th>verse_artist</th>\n",
       "    </tr>\n",
       "  </thead>\n",
       "  <tbody>\n",
       "    <tr>\n",
       "      <th>4</th>\n",
       "      <td>Cheat on Yo Man</td>\n",
       "      <td>NO DATE</td>\n",
       "      <td>Pimp C</td>\n",
       "      <td>Suga-T / Mannie Fresh</td>\n",
       "      <td>761361</td>\n",
       "      <td>NaN</td>\n",
       "      <td>0</td>\n",
       "      <td>NaN</td>\n",
       "      <td>NaN</td>\n",
       "      <td>NO HEADER</td>\n",
       "    </tr>\n",
       "    <tr>\n",
       "      <th>5</th>\n",
       "      <td>Cheat on Yo Man</td>\n",
       "      <td>NO DATE</td>\n",
       "      <td>Pimp C</td>\n",
       "      <td>Suga-T / Mannie Fresh</td>\n",
       "      <td>761361</td>\n",
       "      <td>If you wanna get ahead baby\\nStick to the plan...</td>\n",
       "      <td>1</td>\n",
       "      <td>Hook: Mannie Fresh</td>\n",
       "      <td>Hook</td>\n",
       "      <td>Mannie Fresh</td>\n",
       "    </tr>\n",
       "    <tr>\n",
       "      <th>6</th>\n",
       "      <td>Cheat on Yo Man</td>\n",
       "      <td>NO DATE</td>\n",
       "      <td>Pimp C</td>\n",
       "      <td>Suga-T / Mannie Fresh</td>\n",
       "      <td>761361</td>\n",
       "      <td>I ain't really tryin to break you and yo nigga...</td>\n",
       "      <td>2</td>\n",
       "      <td>Verse 1: Pimp C</td>\n",
       "      <td>Verse</td>\n",
       "      <td>Pimp C</td>\n",
       "    </tr>\n",
       "    <tr>\n",
       "      <th>7</th>\n",
       "      <td>Cheat on Yo Man</td>\n",
       "      <td>NO DATE</td>\n",
       "      <td>Pimp C</td>\n",
       "      <td>Suga-T / Mannie Fresh</td>\n",
       "      <td>761361</td>\n",
       "      <td>Now i dont really care what you talkin about, ...</td>\n",
       "      <td>3</td>\n",
       "      <td>Hook Verse 2: Suga</td>\n",
       "      <td>Hook Verse</td>\n",
       "      <td>Suga</td>\n",
       "    </tr>\n",
       "    <tr>\n",
       "      <th>8</th>\n",
       "      <td>Cheat on Yo Man</td>\n",
       "      <td>NO DATE</td>\n",
       "      <td>Pimp C</td>\n",
       "      <td>Suga-T / Mannie Fresh</td>\n",
       "      <td>761361</td>\n",
       "      <td>Love ain't nothin but a four letter word, got ...</td>\n",
       "      <td>4</td>\n",
       "      <td>Hook Verse 3: Mannie Fresh</td>\n",
       "      <td>Hook Verse</td>\n",
       "      <td>Mannie Fresh</td>\n",
       "    </tr>\n",
       "    <tr>\n",
       "      <th>9</th>\n",
       "      <td>Cheat on Yo Man</td>\n",
       "      <td>NO DATE</td>\n",
       "      <td>Pimp C</td>\n",
       "      <td>Suga-T / Mannie Fresh</td>\n",
       "      <td>761361</td>\n",
       "      <td>\\</td>\n",
       "      <td>5</td>\n",
       "      <td>Hook x4</td>\n",
       "      <td>Hook x4</td>\n",
       "      <td>Pimp C</td>\n",
       "    </tr>\n",
       "  </tbody>\n",
       "</table>\n",
       "</div>"
      ],
      "text/plain": [
       "        song_title release_date song_artist               features  song_id  \\\n",
       "4  Cheat on Yo Man      NO DATE      Pimp C  Suga-T / Mannie Fresh   761361   \n",
       "5  Cheat on Yo Man      NO DATE      Pimp C  Suga-T / Mannie Fresh   761361   \n",
       "6  Cheat on Yo Man      NO DATE      Pimp C  Suga-T / Mannie Fresh   761361   \n",
       "7  Cheat on Yo Man      NO DATE      Pimp C  Suga-T / Mannie Fresh   761361   \n",
       "8  Cheat on Yo Man      NO DATE      Pimp C  Suga-T / Mannie Fresh   761361   \n",
       "9  Cheat on Yo Man      NO DATE      Pimp C  Suga-T / Mannie Fresh   761361   \n",
       "\n",
       "                                          verse_text  verse_index  \\\n",
       "4                                                NaN            0   \n",
       "5  If you wanna get ahead baby\\nStick to the plan...            1   \n",
       "6  I ain't really tryin to break you and yo nigga...            2   \n",
       "7  Now i dont really care what you talkin about, ...            3   \n",
       "8  Love ain't nothin but a four letter word, got ...            4   \n",
       "9                                                  \\            5   \n",
       "\n",
       "                 verse_header  verse_type  verse_artist  \n",
       "4                         NaN         NaN     NO HEADER  \n",
       "5          Hook: Mannie Fresh        Hook  Mannie Fresh  \n",
       "6             Verse 1: Pimp C       Verse        Pimp C  \n",
       "7          Hook Verse 2: Suga  Hook Verse          Suga  \n",
       "8  Hook Verse 3: Mannie Fresh  Hook Verse  Mannie Fresh  \n",
       "9                     Hook x4     Hook x4        Pimp C  "
      ]
     },
     "execution_count": 13,
     "metadata": {},
     "output_type": "execute_result"
    }
   ],
   "source": [
    "suga_t_verses_df = pd.read_csv(\"./lyrics/suga-t/suga-t_verses.csv\")\n",
    "suga_t_verses_df.query(\"song_title=='Cheat on Yo Man'\")"
   ]
  },
  {
   "cell_type": "markdown",
   "id": "1aac98f9",
   "metadata": {},
   "source": [
    "### 9. Additional cleaning and standardization <a name=\"9\"></a>\n",
    "<a href=\"#index\">Top</a>\n",
    "\n",
    "Cleaning and standardization steps to correct some recurring issues in the data (some of which are visible above):\n",
    "\n",
    "* Use the song artist as the verse artist if the verse artist is missing\n",
    "* Remove \"produced by\" from any verse artists\n",
    "* Correct for hyphenation (change verse type like \"pre chorus\" to \"pre-chorus\")\n",
    "* Correct basic typos by comparing ordered letters in verse types (ie \"chrous\" has the same letters as \"chorus\")\n",
    "* Replace \"hook\" with \"chorus\" (these are functionally interchangable)\n",
    "* Replace \"chorus verse\" with \"verse\" (this is usually a verse which follows an implied chorus)\n",
    "* Filter out any verse with < 10 characters"
   ]
  },
  {
   "cell_type": "code",
   "execution_count": 14,
   "id": "957e1dd1",
   "metadata": {},
   "outputs": [],
   "source": [
    "all_verses = pd.read_csv('cleaning_project_data.csv')\n",
    "\n",
    "# all_verses = pd.DataFrame()\n",
    "# for t in os.listdir('./lyrics'):\n",
    "#     try:\n",
    "#         v_path = os.path.join('./lyrics', t, t + \"_verses.csv\")\n",
    "#         if os.path.exists(v_path):\n",
    "#             artist_df = pd.read_csv(os.path.join('./lyrics', t, t + \"_verses.csv\"))\n",
    "#             all_verses = pd.concat([all_verses, artist_df])\n",
    "#         else:\n",
    "#             print(\"no v path!\")\n",
    "#     except Exception as e:\n",
    "#         print(e.args)\n",
    "# all_verses.to_csv(\"cleaning_project_data.csv\", index=False)"
   ]
  },
  {
   "cell_type": "code",
   "execution_count": 15,
   "id": "85d8eec6",
   "metadata": {},
   "outputs": [],
   "source": [
    "def standardize_verse_type(v):\n",
    "    v = re.sub(r\"\\sx?[\\d\\(]\", \"\", v).replace(\"pre \", \"pre-\").replace(\"post \", \"post-\")\n",
    "    v = v.replace(\"hook\", \"chorus\").replace(\"chorus verse\", \"verse\")\n",
    "    \n",
    "    def simpler(s):\n",
    "        return \"\".join(sorted([l for l in s.strip()]))\n",
    "    \n",
    "    for v_ in ['chorus', 'hook', 'intro', 'verse', 'bridge', 'outro', 'refrain']:\n",
    "        if simpler(v_) == simpler(v):\n",
    "            return v_\n",
    "    return v\n",
    "\n",
    "def filter_verse_artist(r):\n",
    "    v = r['verse_artist'].lower()\n",
    "    if v == 'no header':\n",
    "        return r['song_artist']\n",
    "    \n",
    "    elif r['song_artist'].lower() != v and r['song_artist'].lower() in v:\n",
    "        return r['song_artist']\n",
    "    \n",
    "    elif v.startswith('produced by'):\n",
    "        return r['song_artist']\n",
    "    \n",
    "    else:\n",
    "        return v\n",
    "\n",
    "def filter_data(df):\n",
    "    return df.query(\"~verse_text.isnull()\").query(\n",
    "        \"gender.isin(['m', 'f', 'Male', 'Female'])\"\n",
    "    ).query(\"verse_text.str.len() > 10\")"
   ]
  },
  {
   "cell_type": "code",
   "execution_count": 16,
   "id": "04375d47",
   "metadata": {},
   "outputs": [],
   "source": [
    "all_verses['verse_artist'] = all_verses.apply(filter_verse_artist, 1)\n",
    "all_verses['verse_type'] = all_verses['verse_type'].str.lower().fillna(\"null\").map(standardize_verse_type)"
   ]
  },
  {
   "cell_type": "markdown",
   "id": "6dba2a08",
   "metadata": {},
   "source": [
    "### 10. Add metrics <a name=\"10\"></a>\n",
    "<a href=\"#index\">Top</a>\n",
    "\n",
    "Finally, we add some basic metrics about each verse to inform downstream cleaning and optimization.\n",
    "\n",
    "As previously mentioned, the modeling framework only accomidates inputs of a maximum of 512 tokens. We need to adjust token metrics accordingly.\n",
    "\n",
    "We also add the gender of each artist -- our target variable! -- using previously compiled data."
   ]
  },
  {
   "cell_type": "code",
   "execution_count": 17,
   "id": "c8a82430",
   "metadata": {},
   "outputs": [],
   "source": [
    "all_verses['verse_len'] = all_verses['verse_text'].fillna(\"\").str.len()\n",
    "all_verses['token_len'] = all_verses['verse_text'].fillna(\"\").map(lambda v: len(v.split()[:512]))\n",
    "all_verses['unique_token_len'] = all_verses['verse_text'].fillna(\"\").map(lambda v: len(set(v.split()[:512])))\n",
    "all_verses['unique_token_pct'] = all_verses['unique_token_len']/all_verses['token_len']"
   ]
  },
  {
   "cell_type": "code",
   "execution_count": 18,
   "id": "2433b2fb",
   "metadata": {},
   "outputs": [],
   "source": [
    "gender_key_df = pd.read_csv('gender_key.csv')\n",
    "gender_key_df.columns = ['verse_artist', 'gender']\n",
    "gender_key_df['gender'] = gender_key_df['gender'].str.lower()\n",
    "\n",
    "gender_dict = dict(zip(gender_key_df.verse_artist, gender_key_df.gender))\n",
    "all_verses['gender'] = all_verses[\n",
    "    'verse_artist'].str.lower().map(gender_dict).replace({\"m\": \"Male\", \"f\": \"Female\"}).str.title()"
   ]
  },
  {
   "cell_type": "code",
   "execution_count": 19,
   "id": "e7cfe0c1",
   "metadata": {},
   "outputs": [],
   "source": [
    "df = filter_data(all_verses)"
   ]
  },
  {
   "cell_type": "markdown",
   "id": "dac1501c",
   "metadata": {},
   "source": [
    "Here is the final, cleaned data for \"Cheat on Yo Man\"."
   ]
  },
  {
   "cell_type": "code",
   "execution_count": 37,
   "id": "b53be839",
   "metadata": {},
   "outputs": [
    {
     "data": {
      "text/html": [
       "<div>\n",
       "<style scoped>\n",
       "    .dataframe tbody tr th:only-of-type {\n",
       "        vertical-align: middle;\n",
       "    }\n",
       "\n",
       "    .dataframe tbody tr th {\n",
       "        vertical-align: top;\n",
       "    }\n",
       "\n",
       "    .dataframe thead th {\n",
       "        text-align: right;\n",
       "    }\n",
       "</style>\n",
       "<table border=\"1\" class=\"dataframe\">\n",
       "  <thead>\n",
       "    <tr style=\"text-align: right;\">\n",
       "      <th></th>\n",
       "      <th>song_title</th>\n",
       "      <th>release_date</th>\n",
       "      <th>song_artist</th>\n",
       "      <th>features</th>\n",
       "      <th>song_id</th>\n",
       "      <th>verse_text</th>\n",
       "      <th>verse_index</th>\n",
       "      <th>verse_header</th>\n",
       "      <th>verse_type</th>\n",
       "      <th>verse_artist</th>\n",
       "      <th>verse_len</th>\n",
       "      <th>token_len</th>\n",
       "      <th>unique_token_len</th>\n",
       "      <th>unique_token_pct</th>\n",
       "      <th>gender</th>\n",
       "    </tr>\n",
       "  </thead>\n",
       "  <tbody>\n",
       "    <tr>\n",
       "      <th>369185</th>\n",
       "      <td>Cheat on Yo Man</td>\n",
       "      <td>NO DATE</td>\n",
       "      <td>Pimp C</td>\n",
       "      <td>Suga-T / Mannie Fresh</td>\n",
       "      <td>761361.0</td>\n",
       "      <td>If you wanna get ahead baby\\nStick to the plan...</td>\n",
       "      <td>1</td>\n",
       "      <td>Hook: Mannie Fresh</td>\n",
       "      <td>chorus</td>\n",
       "      <td>mannie fresh</td>\n",
       "      <td>181</td>\n",
       "      <td>39</td>\n",
       "      <td>20</td>\n",
       "      <td>0.512821</td>\n",
       "      <td>Male</td>\n",
       "    </tr>\n",
       "    <tr>\n",
       "      <th>369186</th>\n",
       "      <td>Cheat on Yo Man</td>\n",
       "      <td>NO DATE</td>\n",
       "      <td>Pimp C</td>\n",
       "      <td>Suga-T / Mannie Fresh</td>\n",
       "      <td>761361.0</td>\n",
       "      <td>I ain't really tryin to break you and yo nigga...</td>\n",
       "      <td>2</td>\n",
       "      <td>Verse 1: Pimp C</td>\n",
       "      <td>verse</td>\n",
       "      <td>pimp c</td>\n",
       "      <td>786</td>\n",
       "      <td>161</td>\n",
       "      <td>116</td>\n",
       "      <td>0.720497</td>\n",
       "      <td>Male</td>\n",
       "    </tr>\n",
       "    <tr>\n",
       "      <th>369187</th>\n",
       "      <td>Cheat on Yo Man</td>\n",
       "      <td>NO DATE</td>\n",
       "      <td>Pimp C</td>\n",
       "      <td>Suga-T / Mannie Fresh</td>\n",
       "      <td>761361.0</td>\n",
       "      <td>Now i dont really care what you talkin about, ...</td>\n",
       "      <td>3</td>\n",
       "      <td>Hook Verse 2: Suga</td>\n",
       "      <td>verse</td>\n",
       "      <td>suga</td>\n",
       "      <td>737</td>\n",
       "      <td>159</td>\n",
       "      <td>93</td>\n",
       "      <td>0.584906</td>\n",
       "      <td>Female</td>\n",
       "    </tr>\n",
       "    <tr>\n",
       "      <th>369188</th>\n",
       "      <td>Cheat on Yo Man</td>\n",
       "      <td>NO DATE</td>\n",
       "      <td>Pimp C</td>\n",
       "      <td>Suga-T / Mannie Fresh</td>\n",
       "      <td>761361.0</td>\n",
       "      <td>Love ain't nothin but a four letter word, got ...</td>\n",
       "      <td>4</td>\n",
       "      <td>Hook Verse 3: Mannie Fresh</td>\n",
       "      <td>verse</td>\n",
       "      <td>mannie fresh</td>\n",
       "      <td>755</td>\n",
       "      <td>150</td>\n",
       "      <td>107</td>\n",
       "      <td>0.713333</td>\n",
       "      <td>Male</td>\n",
       "    </tr>\n",
       "  </tbody>\n",
       "</table>\n",
       "</div>"
      ],
      "text/plain": [
       "             song_title release_date song_artist               features  \\\n",
       "369185  Cheat on Yo Man      NO DATE      Pimp C  Suga-T / Mannie Fresh   \n",
       "369186  Cheat on Yo Man      NO DATE      Pimp C  Suga-T / Mannie Fresh   \n",
       "369187  Cheat on Yo Man      NO DATE      Pimp C  Suga-T / Mannie Fresh   \n",
       "369188  Cheat on Yo Man      NO DATE      Pimp C  Suga-T / Mannie Fresh   \n",
       "\n",
       "         song_id                                         verse_text  \\\n",
       "369185  761361.0  If you wanna get ahead baby\\nStick to the plan...   \n",
       "369186  761361.0  I ain't really tryin to break you and yo nigga...   \n",
       "369187  761361.0  Now i dont really care what you talkin about, ...   \n",
       "369188  761361.0  Love ain't nothin but a four letter word, got ...   \n",
       "\n",
       "        verse_index                verse_header verse_type  verse_artist  \\\n",
       "369185            1          Hook: Mannie Fresh     chorus  mannie fresh   \n",
       "369186            2             Verse 1: Pimp C      verse        pimp c   \n",
       "369187            3          Hook Verse 2: Suga      verse          suga   \n",
       "369188            4  Hook Verse 3: Mannie Fresh      verse  mannie fresh   \n",
       "\n",
       "        verse_len  token_len  unique_token_len  unique_token_pct  gender  \n",
       "369185        181         39                20          0.512821    Male  \n",
       "369186        786        161               116          0.720497    Male  \n",
       "369187        737        159                93          0.584906  Female  \n",
       "369188        755        150               107          0.713333    Male  "
      ]
     },
     "execution_count": 37,
     "metadata": {},
     "output_type": "execute_result"
    }
   ],
   "source": [
    "df.query(\"song_title=='Cheat on Yo Man'\")"
   ]
  }
 ],
 "metadata": {
  "kernelspec": {
   "display_name": "Python 3 (ipykernel)",
   "language": "python",
   "name": "python3"
  },
  "language_info": {
   "codemirror_mode": {
    "name": "ipython",
    "version": 3
   },
   "file_extension": ".py",
   "mimetype": "text/x-python",
   "name": "python",
   "nbconvert_exporter": "python",
   "pygments_lexer": "ipython3",
   "version": "3.10.4"
  }
 },
 "nbformat": 4,
 "nbformat_minor": 5
}
